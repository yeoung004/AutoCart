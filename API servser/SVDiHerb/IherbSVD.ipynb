{
 "cells": [
  {
   "cell_type": "code",
   "execution_count": 44,
   "metadata": {},
   "outputs": [],
   "source": [
    "import pandas as pd\n",
    "from sklearn.decomposition import TruncatedSVD\n",
    "import numpy as np"
   ]
  },
  {
   "cell_type": "code",
   "execution_count": 27,
   "metadata": {},
   "outputs": [],
   "source": [
    "userId = 'id'"
   ]
  },
  {
   "cell_type": "code",
   "execution_count": 42,
   "metadata": {},
   "outputs": [
    {
     "data": {
      "text/plain": [
       "['CGN-00932', 'DRB-00358', 'LEX-23141']"
      ]
     },
     "execution_count": 42,
     "metadata": {},
     "output_type": "execute_result"
    }
   ],
   "source": [
    "rating_data = pd.read_csv('findX.csv')\n",
    "product_data = pd.read_csv('제품상세.csv')\n",
    "product_data = product_data.drop(['price','star','quantity','company','url','img_url'],axis='columns')\n",
    "user_product_data = pd.merge(rating_data, product_data, on = 'pcode', )\n",
    "user_product_rating = user_product_data.pivot_table('rate', index = 'Id', columns='pcode').fillna(0)\n",
    "product_user_rating = user_product_rating.values.T\n",
    "SVD = TruncatedSVD(n_components=10)\n",
    "matrix = SVD.fit_transform(product_user_rating)\n",
    "corr = np.corrcoef(matrix)\n",
    "product_title = user_product_rating.columns\n",
    "product_title_list = list(product_title)\n",
    "coffey_hands = product_title_list.index('BLB-00683')\n",
    "corr_coffey_hands = corr[coffey_hands]\n",
    "result = list(product_title[(corr_coffey_hands >= 0.6)])[:4]\n",
    "result.remove('BLB-00683')\n",
    "result"
   ]
  },
  {
   "cell_type": "code",
   "execution_count": null,
   "metadata": {},
   "outputs": [],
   "source": []
  },
  {
   "cell_type": "code",
   "execution_count": null,
   "metadata": {},
   "outputs": [],
   "source": []
  }
 ],
 "metadata": {
  "kernelspec": {
   "display_name": "Python 3",
   "language": "python",
   "name": "python3"
  },
  "language_info": {
   "codemirror_mode": {
    "name": "ipython",
    "version": 3
   },
   "file_extension": ".py",
   "mimetype": "text/x-python",
   "name": "python",
   "nbconvert_exporter": "python",
   "pygments_lexer": "ipython3",
   "version": "3.7.6"
  }
 },
 "nbformat": 4,
 "nbformat_minor": 4
}
