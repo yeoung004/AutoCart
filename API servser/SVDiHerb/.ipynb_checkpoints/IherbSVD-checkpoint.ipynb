{
 "cells": [
  {
   "cell_type": "code",
   "execution_count": 1,
   "metadata": {},
   "outputs": [],
   "source": [
    "import pandas as pd\n",
    "from sklearn.decomposition import TruncatedSVD\n",
    "import numpy as np"
   ]
  },
  {
   "cell_type": "code",
   "execution_count": 2,
   "metadata": {
    "scrolled": true
   },
   "outputs": [],
   "source": [
    "rating_data = pd.read_csv('UserCSV/'+userId+'review.csv')\n",
    "product_data = pd.read_csv('제품상세.csv')"
   ]
  },
  {
   "cell_type": "code",
   "execution_count": 5,
   "metadata": {},
   "outputs": [
    {
     "data": {
      "text/html": [
       "<div>\n",
       "<style scoped>\n",
       "    .dataframe tbody tr th:only-of-type {\n",
       "        vertical-align: middle;\n",
       "    }\n",
       "\n",
       "    .dataframe tbody tr th {\n",
       "        vertical-align: top;\n",
       "    }\n",
       "\n",
       "    .dataframe thead th {\n",
       "        text-align: right;\n",
       "    }\n",
       "</style>\n",
       "<table border=\"1\" class=\"dataframe\">\n",
       "  <thead>\n",
       "    <tr style=\"text-align: right;\">\n",
       "      <th></th>\n",
       "      <th>pcode</th>\n",
       "      <th>title</th>\n",
       "    </tr>\n",
       "  </thead>\n",
       "  <tbody>\n",
       "    <tr>\n",
       "      <th>0</th>\n",
       "      <td>BLB-00683</td>\n",
       "      <td>Bluebonnet Nutrition, 킬레이트화 마그네슘, 베지 캡슐 120정</td>\n",
       "    </tr>\n",
       "    <tr>\n",
       "      <th>1</th>\n",
       "      <td>CDL-10200</td>\n",
       "      <td>ChildLife, Essentials, 액상 비타민 C, 천연 오렌지 향, 118...</td>\n",
       "    </tr>\n",
       "    <tr>\n",
       "      <th>2</th>\n",
       "      <td>CEN-28024</td>\n",
       "      <td>21st Century, Zinc, Chelated, 50 mg, 60 Tablets</td>\n",
       "    </tr>\n",
       "    <tr>\n",
       "      <th>3</th>\n",
       "      <td>CGN-00931</td>\n",
       "      <td>California Gold Nutrition, Gold C, 비타민 C, 1,00...</td>\n",
       "    </tr>\n",
       "    <tr>\n",
       "      <th>4</th>\n",
       "      <td>CGN-00932</td>\n",
       "      <td>California Gold Nutrition, Gold C, 비타민 C, 1,00...</td>\n",
       "    </tr>\n",
       "  </tbody>\n",
       "</table>\n",
       "</div>"
      ],
      "text/plain": [
       "       pcode                                              title\n",
       "0  BLB-00683       Bluebonnet Nutrition, 킬레이트화 마그네슘, 베지 캡슐 120정\n",
       "1  CDL-10200  ChildLife, Essentials, 액상 비타민 C, 천연 오렌지 향, 118...\n",
       "2  CEN-28024    21st Century, Zinc, Chelated, 50 mg, 60 Tablets\n",
       "3  CGN-00931  California Gold Nutrition, Gold C, 비타민 C, 1,00...\n",
       "4  CGN-00932  California Gold Nutrition, Gold C, 비타민 C, 1,00..."
      ]
     },
     "execution_count": 5,
     "metadata": {},
     "output_type": "execute_result"
    }
   ],
   "source": [
    "product_data = product_data.drop(['price','star','quantity','company','url','img_url'],axis='columns')\n",
    "user_product_data = pd.merge(rating_data, product_data, on = 'pcode', )\n",
    "user_product_data.to_csv('data.csv', encoding=\"euc-kr\")\n",
    "user_product_rating = user_product_data.pivot_table('rate', index = 'Id', columns='pcode').fillna(0)\n",
    "product_user_rating = user_product_rating.values.T\n",
    "SVD = TruncatedSVD(n_components=10)\n",
    "matrix = SVD.fit_transform(product_user_rating)\n",
    "corr = np.corrcoef(matrix)\n",
    "product_title = user_product_rating.columns\n",
    "product_title_list = list(product_title)\n",
    "\n",
    "#장바구니 담을 상품중 1개\n",
    "coffey_hands = product_title_list.index('BLB-00683')\n",
    "corr_coffey_hands = corr[coffey_hands]\n",
    "result = list(product_title[(corr_coffey_hands >= 0.6)])[:4]\n",
    "#장바구니 담을 상품중 1개 넣고 삭제\n",
    "result.remove('BLB-00683')\n",
    "#resutl는 추천 제품"
   ]
  },
  {
   "cell_type": "code",
   "execution_count": 20,
   "metadata": {},
   "outputs": [],
   "source": [
    "corr_coffey_hands = corr[coffey_hands]\n",
    "result = list(product_title[(corr_coffey_hands >= 0.6)])[:4]"
   ]
  },
  {
   "cell_type": "code",
   "execution_count": 22,
   "metadata": {},
   "outputs": [
    {
     "data": {
      "text/plain": [
       "['CGN-00932', 'LEX-23141', 'NWY-15685']"
      ]
     },
     "execution_count": 22,
     "metadata": {},
     "output_type": "execute_result"
    }
   ],
   "source": [
    "result.remove('BLB-00683')\n",
    "result"
   ]
  }
 ],
 "metadata": {
  "kernelspec": {
   "display_name": "Python 3",
   "language": "python",
   "name": "python3"
  },
  "language_info": {
   "codemirror_mode": {
    "name": "ipython",
    "version": 3
   },
   "file_extension": ".py",
   "mimetype": "text/x-python",
   "name": "python",
   "nbconvert_exporter": "python",
   "pygments_lexer": "ipython3",
   "version": "3.7.6"
  }
 },
 "nbformat": 4,
 "nbformat_minor": 4
}
